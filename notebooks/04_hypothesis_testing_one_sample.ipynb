{
 "cells": [
  {
   "cell_type": "markdown",
   "metadata": {
    "collapsed": false
   },
   "source": [
    "# Hypothesis Testing with One Sample"
   ]
  },
  {
   "cell_type": "code",
   "execution_count": 1,
   "metadata": {
    "ExecuteTime": {
     "start_time": "2023-04-18T11:03:08.873689Z",
     "end_time": "2023-04-18T11:03:08.892066Z"
    },
    "collapsed": false
   },
   "outputs": [],
   "source": [
    "import pandas as pd\n",
    "import numpy as np\n",
    "import scipy.stats\n",
    "\n",
    "df = pd.read_csv('../data/wine.csv')"
   ]
  },
  {
   "cell_type": "code",
   "execution_count": 2,
   "metadata": {
    "ExecuteTime": {
     "start_time": "2023-04-18T11:03:08.895067Z",
     "end_time": "2023-04-18T11:03:08.904598Z"
    },
    "collapsed": false
   },
   "outputs": [
    {
     "name": "stdout",
     "output_type": "stream",
     "text": [
      "H0 : mean of pH is 3.29\n",
      "H1 : mean of pH > 3.29\n",
      "alpha = 0.05\n",
      "Critical Region : z > 1.645\n",
      "z = 4.1037807933651145\n",
      "p = 2.0322630043302333e-05\n",
      "H0 rejected\n",
      "Mean of pH > 3.29\n",
      "Reality: 3.30361\n"
     ]
    }
   ],
   "source": [
    "print('H0 : mean of pH is 3.29')\n",
    "print('H1 : mean of pH > 3.29')\n",
    "print('alpha = 0.05')\n",
    "\n",
    "print('Critical Region : z > 1.645')\n",
    "\n",
    "z = (df['pH'].mean() - 3.29) / (df['pH'].std() / np.sqrt(len(df['pH'])))\n",
    "print('z =', z)\n",
    "\n",
    "# convert to p-value (right-tailed)\n",
    "p = scipy.stats.norm.sf(abs(z))\n",
    "print('p =', p)\n",
    "\n",
    "if p > 0.05:\n",
    "    print('H0 failed to reject')\n",
    "    print('Mean of pH = 3.29')\n",
    "else:\n",
    "    print('H0 rejected')\n",
    "    print('Mean of pH > 3.29')\n",
    "\n",
    "print('Reality:', df['pH'].mean())"
   ]
  },
  {
   "cell_type": "code",
   "execution_count": 3,
   "metadata": {
    "ExecuteTime": {
     "start_time": "2023-04-18T11:03:08.905599Z",
     "end_time": "2023-04-18T11:03:08.961132Z"
    },
    "collapsed": false
   },
   "outputs": [
    {
     "name": "stdout",
     "output_type": "stream",
     "text": [
      "H0 : mean of residual sugar is 2.5\n",
      "H1 : mean of residual sugar != 2.5\n",
      "alpha = 0.05\n",
      "Critical Region : z < -1.645 or z > 1.645\n",
      "z = 2.1479619435539523\n",
      "p = 0.031716778818727434\n",
      "H0 rejected\n",
      "Mean of residual sugar != 2.5\n",
      "Reality: 2.5671036825067595\n"
     ]
    }
   ],
   "source": [
    "print('H0 : mean of residual sugar is 2.5')\n",
    "print('H1 : mean of residual sugar != 2.5')\n",
    "print('alpha = 0.05')\n",
    "\n",
    "print('Critical Region : z < -1.645 or z > 1.645')\n",
    "\n",
    "z = (df['residual sugar'].mean() - 2.5) / (df['residual sugar'].std() / np.sqrt(len(df['residual sugar'])))\n",
    "print('z =', z)\n",
    "\n",
    "# convert to p-value (two-tailed)\n",
    "p = scipy.stats.norm.sf(abs(z)) * 2\n",
    "print('p =', p)\n",
    "\n",
    "if p > 0.05:\n",
    "    print('H0 failed to reject')\n",
    "    print('Mean of residual sugar = 2.5')\n",
    "else:\n",
    "    print('H0 rejected')\n",
    "    print('Mean of residual sugar != 2.5')\n",
    "\n",
    "print('Reality:', df['residual sugar'].mean())"
   ]
  },
  {
   "cell_type": "code",
   "execution_count": 4,
   "metadata": {
    "ExecuteTime": {
     "start_time": "2023-04-18T11:03:08.921094Z",
     "end_time": "2023-04-18T11:03:08.962130Z"
    },
    "collapsed": false
   },
   "outputs": [
    {
     "name": "stdout",
     "output_type": "stream",
     "text": [
      "H0 : mean of sulphates = 0.65\n",
      "H1 : mean of sulphates != 0.65\n",
      "alpha = 0.05\n",
      "Critical Region : z < -1.645 or z > 1.645\n",
      "z = -4.964843393315918\n",
      "p = 6.875652918327357e-07\n",
      "H0 rejected\n",
      "Mean of sulphates != 0.65\n",
      "Reality:  0.6058666666666667\n"
     ]
    }
   ],
   "source": [
    "print('H0 : mean of sulphates = 0.65')\n",
    "print('H1 : mean of sulphates != 0.65')\n",
    "print('alpha = 0.05')\n",
    "\n",
    "print('Critical Region : z < -1.645 or z > 1.645')\n",
    "\n",
    "z = (df['sulphates'].iloc[:150].mean() - 0.65) / (df['sulphates'].iloc[:150].std() / np.sqrt(len(df['sulphates'].iloc[:150])))\n",
    "print('z =', z)\n",
    "\n",
    "# convert to p-value (two-tailed)\n",
    "p = scipy.stats.norm.sf(abs(z)) * 2\n",
    "print('p =', p)\n",
    "\n",
    "if p > 0.05:\n",
    "    print('H0 failed to reject')\n",
    "    print('Mean of sulphates = 0.65')\n",
    "else:\n",
    "    print('H0 rejected')\n",
    "    print('Mean of sulphates != 0.65')\n",
    "\n",
    "print('Reality: ', df['sulphates'].iloc[:150].mean())"
   ]
  },
  {
   "cell_type": "code",
   "execution_count": 5,
   "metadata": {
    "ExecuteTime": {
     "start_time": "2023-04-18T11:03:08.930156Z",
     "end_time": "2023-04-18T11:03:08.979260Z"
    },
    "collapsed": false
   },
   "outputs": [
    {
     "name": "stdout",
     "output_type": "stream",
     "text": [
      "H0 : mean of total sulfur dioxide = 35\n",
      "H1 : mean of total sulfur dioxide < 35\n",
      "alpha = 0.05\n",
      "Critical Region : z < -1.645\n",
      "z = 16.786387372296744\n",
      "p = 1.5348545974086137e-63\n",
      "H0 rejected\n",
      "Mean of total sulfur dioxide < 35\n",
      "Reality:  40.290150000000004\n"
     ]
    }
   ],
   "source": [
    "print('H0 : mean of total sulfur dioxide = 35')\n",
    "print('H1 : mean of total sulfur dioxide < 35')\n",
    "print('alpha = 0.05')\n",
    "\n",
    "print('Critical Region : z < -1.645')\n",
    "\n",
    "z = (df['total sulfur dioxide'].mean() - 35) / (df['total sulfur dioxide'].std() / np.sqrt(len(df['total sulfur dioxide'])))\n",
    "print('z =', z)\n",
    "\n",
    "# convert to p-value (left-tailed)\n",
    "p = scipy.stats.norm.sf(abs(z))\n",
    "print('p =', p)\n",
    "\n",
    "if p > 0.05:\n",
    "    print('H0 failed to reject')\n",
    "    print('Mean of total sulfur dioxide = 35')\n",
    "else:\n",
    "    print('H0 rejected')\n",
    "    print('Mean of total sulfur dioxide < 35')\n",
    "\n",
    "print('Reality: ', df['total sulfur dioxide'].mean())"
   ]
  },
  {
   "cell_type": "code",
   "execution_count": 6,
   "metadata": {
    "ExecuteTime": {
     "start_time": "2023-04-18T11:03:08.940589Z",
     "end_time": "2023-04-18T11:03:08.979260Z"
    },
    "collapsed": false
   },
   "outputs": [
    {
     "name": "stdout",
     "output_type": "stream",
     "text": [
      "H0 : proportion of total sulfur dioxide > 40 = 50%\n",
      "H1 : proportion of total sulfur dioxide > 40 != 50%\n",
      "alpha = 0.05\n",
      "Critical Region : z < -1.645 or z > 1.645\n",
      "z = 0.7589466384404118\n",
      "p = 0.4478844782641115\n",
      "H0 failed to reject\n",
      "Proportion of total sulfur dioxide > 40 = 50%\n",
      "Reality:  0.512\n"
     ]
    }
   ],
   "source": [
    "print('H0 : proportion of total sulfur dioxide > 40 = 50%')\n",
    "print('H1 : proportion of total sulfur dioxide > 40 != 50%')\n",
    "print('alpha = 0.05')\n",
    "\n",
    "print('Critical Region : z < -1.645 or z > 1.645')\n",
    "\n",
    "z = (df[df['total sulfur dioxide'] > 40].shape[0] / df.shape[0] - 0.5) / (np.sqrt(0.5 * 0.5 / df.shape[0]))\n",
    "print('z =', z)\n",
    "\n",
    "# convert to p-value (two-tailed)\n",
    "p = scipy.stats.norm.sf(abs(z)) * 2\n",
    "print('p =', p)\n",
    "\n",
    "if p > 0.05:\n",
    "    print('H0 failed to reject')\n",
    "    print('Proportion of total sulfur dioxide > 40 = 50%')\n",
    "else:\n",
    "    print('H0 rejected')\n",
    "    print('Proportion of total sulfur dioxide > 40 != 50%')\n",
    "\n",
    "print('Reality: ', df[df['total sulfur dioxide'] > 40].shape[0] / df.shape[0])"
   ]
  }
 ],
 "metadata": {
  "kernelspec": {
   "display_name": "Python 3",
   "language": "python",
   "name": "python3"
  },
  "language_info": {
   "codemirror_mode": {
    "name": "ipython",
    "version": 3
   },
   "file_extension": ".py",
   "mimetype": "text/x-python",
   "name": "python",
   "nbconvert_exporter": "python",
   "pygments_lexer": "ipython3",
   "version": "3.9.16"
  }
 },
 "nbformat": 4,
 "nbformat_minor": 0
}
