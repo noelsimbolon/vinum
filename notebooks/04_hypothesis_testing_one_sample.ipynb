{
 "cells": [
  {
   "cell_type": "markdown",
   "metadata": {
    "collapsed": false
   },
   "source": [
    "# Hypothesis Testing with One Sample"
   ]
  },
  {
   "cell_type": "code",
   "execution_count": 8,
   "metadata": {
    "ExecuteTime": {
     "end_time": "2023-04-04T14:09:14.116152Z",
     "start_time": "2023-04-04T14:09:14.113143Z"
    },
    "collapsed": false
   },
   "outputs": [],
   "source": [
    "import pandas as pd\n",
    "import numpy as np\n",
    "import scipy.stats"
   ]
  },
  {
   "cell_type": "code",
   "execution_count": 9,
   "metadata": {
    "ExecuteTime": {
     "end_time": "2023-04-04T14:09:14.117182Z",
     "start_time": "2023-04-04T14:09:14.113143Z"
    },
    "collapsed": false
   },
   "outputs": [],
   "source": [
    "# Read in the data\n",
    "df = pd.read_csv('../data/wine.csv')"
   ]
  },
  {
   "cell_type": "code",
   "execution_count": 10,
   "metadata": {
    "ExecuteTime": {
     "end_time": "2023-04-04T14:09:14.117182Z",
     "start_time": "2023-04-04T14:09:14.113143Z"
    },
    "collapsed": false
   },
   "outputs": [
    {
     "name": "stdout",
     "output_type": "stream",
     "text": [
      "H0 : mean of pH is 3.29\n",
      "H1 : mean of pH > 3.29\n",
      "alpha = 0.05\n",
      "Critical Region : z > 1.645\n",
      "z = 4.103780793366056\n",
      "p = 2.0322630043219585e-05\n",
      "H0 rejected\n",
      "Mean of pH > 3.29\n",
      "Reality: 3.303610000000003\n"
     ]
    }
   ],
   "source": [
    "print('H0 : mean of pH is 3.29')\n",
    "print('H1 : mean of pH > 3.29')\n",
    "print('alpha = 0.05')\n",
    "\n",
    "print('Critical Region : z > 1.645')\n",
    "\n",
    "z = (df['pH'].mean() - 3.29) / (df['pH'].std() / np.sqrt(len(df['pH'])))\n",
    "print('z =', z)\n",
    "\n",
    "# convert to p-value (right-tailed)\n",
    "p = scipy.stats.norm.sf(abs(z))\n",
    "print('p =', p)\n",
    "\n",
    "if p > 0.05:\n",
    "    print('H0 failed to reject')\n",
    "    print('Mean of pH = 3.29')\n",
    "else:\n",
    "    print('H0 rejected')\n",
    "    print('Mean of pH > 3.29')\n",
    "\n",
    "print('Reality:', df['pH'].mean())"
   ]
  },
  {
   "cell_type": "code",
   "execution_count": 11,
   "metadata": {
    "ExecuteTime": {
     "end_time": "2023-04-04T14:09:14.141825Z",
     "start_time": "2023-04-04T14:09:14.129174Z"
    },
    "collapsed": false
   },
   "outputs": [
    {
     "name": "stdout",
     "output_type": "stream",
     "text": [
      "H0 : mean of residual sugar is 2.5\n",
      "H1 : mean of residual sugar != 2.5\n",
      "alpha = 0.05\n",
      "Critical Region : z < -1.645 or z > 1.645\n",
      "z = 2.147961943553881\n",
      "p = 0.03171677881873312\n",
      "H0 rejected\n",
      "Mean of residual sugar != 2.5\n",
      "Reality: 2.5671036825067572\n"
     ]
    }
   ],
   "source": [
    "print('H0 : mean of residual sugar is 2.5')\n",
    "print('H1 : mean of residual sugar != 2.5')\n",
    "print('alpha = 0.05')\n",
    "\n",
    "print('Critical Region : z < -1.645 or z > 1.645')\n",
    "\n",
    "z = (df['residual sugar'].mean() - 2.5) / (df['residual sugar'].std() / np.sqrt(len(df['residual sugar'])))\n",
    "print('z =', z)\n",
    "\n",
    "# convert to p-value (two-tailed)\n",
    "p = scipy.stats.norm.sf(abs(z)) * 2\n",
    "print('p =', p)\n",
    "\n",
    "if p > 0.05:\n",
    "    print('H0 failed to reject')\n",
    "    print('Mean of residual sugar = 2.5')\n",
    "else:\n",
    "    print('H0 rejected')\n",
    "    print('Mean of residual sugar != 2.5')\n",
    "\n",
    "print('Reality:', df['residual sugar'].mean())"
   ]
  },
  {
   "cell_type": "code",
   "execution_count": 12,
   "metadata": {
    "ExecuteTime": {
     "end_time": "2023-04-04T14:09:14.269632Z",
     "start_time": "2023-04-04T14:09:14.145859Z"
    },
    "collapsed": false
   },
   "outputs": [
    {
     "name": "stdout",
     "output_type": "stream",
     "text": [
      "H0 : mean of sulphates = 0.65\n",
      "H1 : mean of sulphates != 0.65\n",
      "alpha = 0.05\n",
      "Critical Region : z < -1.645 or z > 1.645\n",
      "z = -4.964843393315906\n",
      "p = 6.875652918327764e-07\n",
      "H0 rejected\n",
      "Mean of sulphates != 0.65\n",
      "Reality:  0.6058666666666668\n"
     ]
    }
   ],
   "source": [
    "print('H0 : mean of sulphates = 0.65')\n",
    "print('H1 : mean of sulphates != 0.65')\n",
    "print('alpha = 0.05')\n",
    "\n",
    "print('Critical Region : z < -1.645 or z > 1.645')\n",
    "\n",
    "z = (df['sulphates'].iloc[:150].mean() - 0.65) / (df['sulphates'].iloc[:150].std() / np.sqrt(len(df['sulphates'].iloc[:150])))\n",
    "print('z =', z)\n",
    "\n",
    "# convert to p-value (two-tailed)\n",
    "p = scipy.stats.norm.sf(abs(z)) * 2\n",
    "print('p =', p)\n",
    "\n",
    "if p > 0.05:\n",
    "    print('H0 failed to reject')\n",
    "    print('Mean of sulphates = 0.65')\n",
    "else:\n",
    "    print('H0 rejected')\n",
    "    print('Mean of sulphates != 0.65')\n",
    "\n",
    "print('Reality: ', df['sulphates'].iloc[:150].mean())"
   ]
  },
  {
   "cell_type": "code",
   "execution_count": 13,
   "metadata": {
    "ExecuteTime": {
     "end_time": "2023-04-04T14:09:14.269632Z",
     "start_time": "2023-04-04T14:09:14.166848Z"
    },
    "collapsed": false
   },
   "outputs": [
    {
     "name": "stdout",
     "output_type": "stream",
     "text": [
      "H0 : mean of total sulfur dioxide = 35\n",
      "H1 : mean of total sulfur dioxide < 35\n",
      "alpha = 0.05\n",
      "Critical Region : z < -1.645\n",
      "z = 16.786387372296968\n",
      "p = 1.5348545974028345e-63\n",
      "H0 rejected\n",
      "Mean of total sulfur dioxide < 35\n",
      "Reality:  40.290150000000075\n"
     ]
    }
   ],
   "source": [
    "print('H0 : mean of total sulfur dioxide = 35')\n",
    "print('H1 : mean of total sulfur dioxide < 35')\n",
    "print('alpha = 0.05')\n",
    "\n",
    "print('Critical Region : z < -1.645')\n",
    "\n",
    "z = (df['total sulfur dioxide'].mean() - 35) / (df['total sulfur dioxide'].std() / np.sqrt(len(df['total sulfur dioxide'])))\n",
    "print('z =', z)\n",
    "\n",
    "# convert to p-value (left-tailed)\n",
    "p = scipy.stats.norm.sf(abs(z))\n",
    "print('p =', p)\n",
    "\n",
    "if p > 0.05:\n",
    "    print('H0 failed to reject')\n",
    "    print('Mean of total sulfur dioxide = 35')\n",
    "else:\n",
    "    print('H0 rejected')\n",
    "    print('Mean of total sulfur dioxide < 35')\n",
    "\n",
    "print('Reality: ', df['total sulfur dioxide'].mean())"
   ]
  },
  {
   "cell_type": "code",
   "execution_count": 14,
   "metadata": {
    "ExecuteTime": {
     "end_time": "2023-04-04T14:09:14.271632Z",
     "start_time": "2023-04-04T14:09:14.186312Z"
    },
    "collapsed": false
   },
   "outputs": [
    {
     "name": "stdout",
     "output_type": "stream",
     "text": [
      "H0 : proportion of total sulfur dioxide > 40 = 50%\n",
      "H1 : proportion of total sulfur dioxide > 40 != 50%\n",
      "alpha = 0.05\n",
      "Critical Region : z < -1.645 or z > 1.645\n",
      "z = 0.7589466384404118\n",
      "p = 0.4478844782641115\n",
      "H0 failed to reject\n",
      "Proportion of total sulfur dioxide > 40 = 50%\n",
      "Reality:  0.512\n"
     ]
    }
   ],
   "source": [
    "print('H0 : proportion of total sulfur dioxide > 40 = 50%')\n",
    "print('H1 : proportion of total sulfur dioxide > 40 != 50%')\n",
    "print('alpha = 0.05')\n",
    "\n",
    "print('Critical Region : z < -1.645 or z > 1.645')\n",
    "\n",
    "z = (df[df['total sulfur dioxide'] > 40].shape[0] / df.shape[0] - 0.5) / (np.sqrt(0.5 * 0.5 / df.shape[0]))\n",
    "print('z =', z)\n",
    "\n",
    "# convert to p-value (two-tailed)\n",
    "p = scipy.stats.norm.sf(abs(z)) * 2\n",
    "print('p =', p)\n",
    "\n",
    "if p > 0.05:\n",
    "    print('H0 failed to reject')\n",
    "    print('Proportion of total sulfur dioxide > 40 = 50%')\n",
    "else:\n",
    "    print('H0 rejected')\n",
    "    print('Proportion of total sulfur dioxide > 40 != 50%')\n",
    "\n",
    "print('Reality: ', df[df['total sulfur dioxide'] > 40].shape[0] / df.shape[0])"
   ]
  }
 ],
 "metadata": {
  "kernelspec": {
   "display_name": "Python 3",
   "language": "python",
   "name": "python3"
  },
  "language_info": {
   "codemirror_mode": {
    "name": "ipython",
    "version": 3
   },
   "file_extension": ".py",
   "mimetype": "text/x-python",
   "name": "python",
   "nbconvert_exporter": "python",
   "pygments_lexer": "ipython3",
   "version": "3.9.16"
  }
 },
 "nbformat": 4,
 "nbformat_minor": 0
}
