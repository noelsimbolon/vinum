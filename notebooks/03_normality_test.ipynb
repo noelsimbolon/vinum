{
 "cells": [
  {
   "cell_type": "markdown",
   "metadata": {
    "collapsed": false
   },
   "source": [
    "# Normality Test"
   ]
  },
  {
   "cell_type": "code",
   "execution_count": 1,
   "metadata": {},
   "outputs": [],
   "source": [
    "# Import Dataframe\n",
    "import pandas as pd\n",
    "\n",
    "df = pd.read_csv('../data/wine.csv')"
   ]
  },
  {
   "attachments": {},
   "cell_type": "markdown",
   "metadata": {},
   "source": [
    "Terdapat dua jenis normality test yang populer, yaitu Shapiro-Wilk test dan Kolmogorov-Smirnov test. Shapiro-Wilk test lebih cocok digunakan untuk data dengan sample size kecil (sampai 50), sedangkan Kolmogorov-Smirnov test lebih cocok digunakan untuk data dengan sample size besar (lebih dari 50).\n",
    "\n",
    "Prinsip dari pengecekannya mirip dengan hypothesis testing, menggunakan level of significance $\\alpha$ dan p-value. Jika p-value lebih kecil dari $\\alpha$, maka data tidak normal. Jika p-value lebih besar dari $\\alpha$, maka data normal. Biasanya $\\alpha$ dianggap 0.05."
   ]
  },
  {
   "cell_type": "code",
   "execution_count": 22,
   "metadata": {},
   "outputs": [],
   "source": [
    "# Function to test normality\n",
    "from scipy.stats import shapiro, kstest, normaltest\n",
    "from seaborn import histplot\n",
    "def kolmorogov_smirnov(df, alpha = 0.05):\n",
    "    _, p = kstest(df, 'norm', args=(df.mean(), df.std()))\n",
    "    print('Normality Test: Kolmogorov-Smirnov Test')\n",
    "    print('p-value: ', p)\n",
    "    if p > alpha:\n",
    "        print('The null hypothesis cannot be rejected, the data is normally distributed')\n",
    "    else:\n",
    "        print('The null hypothesis is rejected, the data is not normally distributed')"
   ]
  }
 ],
 "metadata": {
  "kernelspec": {
   "display_name": "Python 3",
   "language": "python",
   "name": "python3"
  },
  "language_info": {
   "codemirror_mode": {
    "name": "ipython",
    "version": 3
   },
   "file_extension": ".py",
   "mimetype": "text/x-python",
   "name": "python",
   "nbconvert_exporter": "python",
   "pygments_lexer": "ipython3",
   "version": "3.9.16"
  }
 },
 "nbformat": 4,
 "nbformat_minor": 0
}
