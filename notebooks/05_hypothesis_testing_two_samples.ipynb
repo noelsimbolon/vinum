{
 "cells": [
  {
   "cell_type": "markdown",
   "metadata": {},
   "source": [
    "# Hypothesis Testing with Two Samples"
   ]
  },
  {
   "cell_type": "code",
   "execution_count": 1,
   "metadata": {
    "ExecuteTime": {
     "start_time": "2023-04-18T07:55:04.514283Z",
     "end_time": "2023-04-18T07:55:04.628479Z"
    }
   },
   "outputs": [],
   "source": [
    "import numpy as np\n",
    "import pandas as pd\n",
    "import scipy.stats\n",
    "from IPython.display import display, Markdown\n",
    "from statsmodels.stats.weightstats import DescrStatsW, CompareMeans\n",
    "\n",
    "df = pd.read_csv('../data/wine.csv')"
   ]
  },
  {
   "cell_type": "markdown",
   "metadata": {},
   "source": [
    "<b></b>\n",
    "\n",
    "## a. The 'fixed acidity' column is divided evenly into two parts: the first half and the second half. Is it true that the means of these two parts are the same?"
   ]
  },
  {
   "cell_type": "markdown",
   "metadata": {},
   "source": [
    "$Let:$\\\n",
    "$\\mu_1:$ the mean of the population from which the first sample is drawn\\\n",
    "$\\mu_2:$ the mean of the population from which the second sample is drawn\\\n",
    "$\\sigma_1^2:$ the variance of the population from which the first sample is drawn\\\n",
    "$\\sigma_2^2:$ the variance of the population from which the second sample is drawn\\\n",
    "$\\bar x_1:$ the mean of the first sample\\\n",
    "$\\bar x_2:$ the mean of the second sample\\\n",
    "$n_1:$ the size of the first sample\\\n",
    "$n_2:$ the size of the second sample\\\n",
    "$\\alpha:$ the level of significance\\\n",
    "$d_0:$ the hypothesized difference between the mean of the first sample and the mean of the second sample\n",
    "\n",
    "1. $H_0: \\mu_1 - \\mu_2 = 0$\n",
    "2. $H_1: \\mu_1 - \\mu_2 \\neq 0$\n",
    "3. $\\alpha = 0.05$\n",
    "4. We shall use a two-tailed hypothesis test on two means with known variances.\n",
    "   $$z = \\frac{(\\bar x_1 - \\bar x_2) - d_0} {\\sqrt{\\frac{\\sigma_1^2}{n_1} + \\frac{\\sigma_2^2}{n_2}}}$$\n",
    "   with\n",
    "   $$d_0 = \\mu_1 - \\mu_2 = 0$$\n",
    "\n",
    "   Since $H_1: \\mu_1 - \\mu_2 \\neq 0$, the critical region of the test is\n",
    "   $$z < -z_{\\alpha/2} \\; or \\; z > z_{\\alpha/2}$$\n",
    "   $$z < -z_{0.025} \\; or \\; z > z_{0.025}$$\n",
    "   $$z < -1.96 \\; or \\; z > 1.96$$\n",
    "5. Do the computations"
   ]
  },
  {
   "cell_type": "code",
   "execution_count": 2,
   "outputs": [
    {
     "data": {
      "text/plain": "<IPython.core.display.Markdown object>",
      "text/markdown": "Result:\n$$z = 0.02604106999908715$$$$p = 0.9792245804253911$$6. We fail to reject the null hypothesis ($H_0$)."
     },
     "metadata": {},
     "output_type": "display_data"
    }
   ],
   "source": [
    "# Determine the length of the column\n",
    "column_length = len(df['fixed acidity'])\n",
    "\n",
    "# Divide the column into two equal-sized parts\n",
    "first_half = df['fixed acidity'][:column_length // 2]\n",
    "second_half = df['fixed acidity'][column_length // 2:]\n",
    "\n",
    "# Create two DescrStatsW instances\n",
    "d1 = DescrStatsW(first_half)\n",
    "d2 = DescrStatsW(second_half)\n",
    "\n",
    "# Create a CompareMeans instance from d1 and d2\n",
    "compare = CompareMeans(d1, d2)\n",
    "\n",
    "# Calculate the z-statistic and p-value\n",
    "z, p = compare.ztest_ind(alternative='two-sided', usevar='unequal', value=0)\n",
    "\n",
    "# Determine whether to reject or fail to reject the null hypothesis (H0)\n",
    "critical_value = 1.96\n",
    "if z > critical_value or z < - critical_value:\n",
    "    decision = f'We reject the null hypothesis ($H_0$).'\n",
    "else:\n",
    "    decision = f'We fail to reject the null hypothesis ($H_0$).'\n",
    "\n",
    "display(Markdown(\n",
    "    f'Result:\\n'\n",
    "    f'$$z = {z}$$'\n",
    "    f'$$p = {p}$$'\n",
    "    f'6. {decision}'\n",
    "    )\n",
    ")"
   ],
   "metadata": {
    "collapsed": false,
    "ExecuteTime": {
     "start_time": "2023-04-18T07:55:04.538623Z",
     "end_time": "2023-04-18T07:55:04.687865Z"
    }
   }
  },
  {
   "cell_type": "markdown",
   "source": [
    "<b></b>\n",
    "\n",
    "## b. The 'chlorides' column is divided evenly into two parts: the first half and the second half. Is it true that the mean of the first half is greater than the mean of second half by 0.001?"
   ],
   "metadata": {
    "collapsed": false
   }
  },
  {
   "cell_type": "markdown",
   "source": [
    "$Let:$\\\n",
    "$\\mu_1:$ the mean of the population from which the first sample is drawn\\\n",
    "$\\mu_2:$ the mean of the population from which the second sample is drawn\\\n",
    "$\\sigma_1^2:$ the variance of the population from which the first sample is drawn\\\n",
    "$\\sigma_2^2:$ the variance of the population from which the second sample is drawn\\\n",
    "$\\bar x_1:$ the mean of the first sample\\\n",
    "$\\bar x_2:$ the mean of the second sample\\\n",
    "$n_1:$ the size of the first sample\\\n",
    "$n_2:$ the size of the second sample\\\n",
    "$\\alpha:$ the level of significance\\\n",
    "$d_0:$ the hypothesized difference between the mean of the first sample and the mean of the second sample\n",
    "\n",
    "1. $H_0: \\mu_1 - \\mu_2 = 0.001$\n",
    "2. $H_1: \\mu_1 - \\mu_2 \\neq 0.001$\n",
    "3. $\\alpha = 0.05$\n",
    "4. We shall use a two-tailed hypothesis test on two means with known variances.\n",
    "   $$z = \\frac{(\\bar x_1 - \\bar x_2) - d_0} {\\sqrt{\\frac{\\sigma_1^2}{n_1} + \\frac{\\sigma_2^2}{n_2}}}$$\n",
    "   with\n",
    "   $$d_0 = \\mu_1 - \\mu_2 = 0.001$$\n",
    "\n",
    "   Since $H_1: \\mu_1 - \\mu_2 \\neq 0.001$, the critical region of the test is\n",
    "   $$z < -z_{\\alpha/2} \\; or \\; z > z_{\\alpha/2}$$\n",
    "   $$z < -z_{0.025} \\; or \\; z > z_{0.025}$$\n",
    "   $$z < -1.96 \\; or \\; z > 1.96$$\n",
    "5. Do the computations"
   ],
   "metadata": {
    "collapsed": false
   }
  },
  {
   "cell_type": "code",
   "execution_count": 3,
   "outputs": [
    {
     "data": {
      "text/plain": "<IPython.core.display.Markdown object>",
      "text/markdown": "Result:\n$$z = -0.4673171228521429$$$$p = 0.6402730075810992$$6. We fail to reject the null hypothesis ($H_0$)."
     },
     "metadata": {},
     "output_type": "display_data"
    }
   ],
   "source": [
    "# Determine the length of the column\n",
    "column_length = len(df['chlorides'])\n",
    "\n",
    "# Divide the column into two equal-sized parts\n",
    "first_half = df['chlorides'][:column_length // 2]\n",
    "second_half = df['chlorides'][column_length // 2:]\n",
    "\n",
    "# Create two DescrStatsW instances\n",
    "d1 = DescrStatsW(first_half)\n",
    "d2 = DescrStatsW(second_half)\n",
    "\n",
    "# Create a CompareMeans instance from d1 and d2\n",
    "compare = CompareMeans(d1, d2)\n",
    "\n",
    "# Calculate the z-statistic and p-value\n",
    "z, p = compare.ztest_ind(alternative='two-sided', usevar='unequal', value=0.001)\n",
    "\n",
    "# Determine whether to reject or fail to reject the null hypothesis (H0)\n",
    "critical_value = 1.96\n",
    "if z > critical_value or z < - critical_value:\n",
    "    decision = f'We reject the null hypothesis ($H_0$).'\n",
    "else:\n",
    "    decision = f'We fail to reject the null hypothesis ($H_0$).'\n",
    "\n",
    "display(Markdown(\n",
    "    f'Result:\\n'\n",
    "    f'$$z = {z}$$'\n",
    "    f'$$p = {p}$$'\n",
    "    f'6. {decision}'\n",
    "    )\n",
    ")"
   ],
   "metadata": {
    "collapsed": false,
    "ExecuteTime": {
     "start_time": "2023-04-18T07:55:04.551476Z",
     "end_time": "2023-04-18T07:55:04.689866Z"
    }
   }
  },
  {
   "cell_type": "markdown",
   "source": [
    "<b></b>\n",
    "\n",
    "## c. Is it true that the mean of the first 25 rows of the 'volatile acidity' column is equal to the mean of the first 25 rows of the 'sulphates' column?"
   ],
   "metadata": {
    "collapsed": false
   }
  },
  {
   "cell_type": "markdown",
   "source": [
    "$Let:$\\\n",
    "$\\mu_1:$ the mean of the population from which the first sample is drawn\\\n",
    "$\\mu_2:$ the mean of the population from which the second sample is drawn\\\n",
    "$\\sigma_1^2:$ the variance of the population from which the first sample is drawn\\\n",
    "$\\sigma_2^2:$ the variance of the population from which the second sample is drawn\\\n",
    "$\\bar x_1:$ the mean of the first sample\\\n",
    "$\\bar x_2:$ the mean of the second sample\\\n",
    "$n_1:$ the size of the first sample\\\n",
    "$n_2:$ the size of the second sample\\\n",
    "$\\alpha:$ the level of significance\\\n",
    "$d_0:$ the hypothesized difference between the mean of the first sample and the mean of the second sample\n",
    "\n",
    "1. $H_0: \\mu_1 - \\mu_2 = 0$\n",
    "2. $H_1: \\mu_1 - \\mu_2 \\neq 0$\n",
    "3. $\\alpha = 0.05$\n",
    "4. We shall use a two-tailed hypothesis test on two means with known variances.\n",
    "   $$z = \\frac{(\\bar x_1 - \\bar x_2) - d_0} {\\sqrt{\\frac{\\sigma_1^2}{n_1} + \\frac{\\sigma_2^2}{n_2}}}$$\n",
    "   with\n",
    "   $$d_0 = \\mu_1 - \\mu_2 = 0$$\n",
    "\n",
    "   Since $H_1: \\mu_1 - \\mu_2 \\neq 0$, the critical region of the test is\n",
    "   $$z < -z_{\\alpha/2} \\; or \\; z > z_{\\alpha/2}$$\n",
    "   $$z < -z_{0.025} \\; or \\; z > z_{0.025}$$\n",
    "   $$z < -1.96 \\; or \\; z > 1.96$$\n",
    "5. Do the computations"
   ],
   "metadata": {
    "collapsed": false
   }
  },
  {
   "cell_type": "code",
   "execution_count": 4,
   "outputs": [
    {
     "data": {
      "text/plain": "<IPython.core.display.Markdown object>",
      "text/markdown": "Result:\n$$z = -2.6374821676748703$$$$p = 0.008352401685453743$$6. We reject the null hypothesis ($H_0$)."
     },
     "metadata": {},
     "output_type": "display_data"
    }
   ],
   "source": [
    "# Get the samples\n",
    "volatile_acidity = df['volatile acidity'][:25]\n",
    "sulphates = df['sulphates'][:25]\n",
    "\n",
    "# Create two DescrStatsW instances\n",
    "d1 = DescrStatsW(volatile_acidity)\n",
    "d2 = DescrStatsW(sulphates)\n",
    "\n",
    "# Create a CompareMeans instance from d1 and d2\n",
    "compare = CompareMeans(d1, d2)\n",
    "\n",
    "# Calculate the z-statistic and p-value\n",
    "z, p = compare.ztest_ind(alternative='two-sided', usevar='unequal', value=0)\n",
    "\n",
    "# Determine whether to reject or fail to reject the null hypothesis (H0)\n",
    "critical_value = 1.96\n",
    "if z > critical_value or z < - critical_value:\n",
    "    decision = f'We reject the null hypothesis ($H_0$).'\n",
    "else:\n",
    "    decision = f'We fail to reject the null hypothesis ($H_0$).'\n",
    "\n",
    "display(Markdown(\n",
    "    f'Result:\\n'\n",
    "    f'$$z = {z}$$'\n",
    "    f'$$p = {p}$$'\n",
    "    f'6. {decision}'\n",
    "    )\n",
    ")"
   ],
   "metadata": {
    "collapsed": false,
    "ExecuteTime": {
     "start_time": "2023-04-18T07:55:04.565952Z",
     "end_time": "2023-04-18T07:55:04.699888Z"
    }
   }
  },
  {
   "cell_type": "markdown",
   "source": [
    "<b></b>\n",
    "\n",
    "## d. The 'residual sugar' column is divided evenly into two parts: the first half and the second half. Is it true that the variance of the first half is equal to the variance of the second half?"
   ],
   "metadata": {
    "collapsed": false
   }
  },
  {
   "cell_type": "markdown",
   "source": [
    "$Let:$\\\n",
    "$\\sigma_1^2:$ the variance of the population from which the first sample is drawn\\\n",
    "$\\sigma_2^2:$ the variance of the population from which the second sample is drawn\\\n",
    "$s_1^2:$ the variance of the first sample\\\n",
    "$s_2^2:$ the variance of the second sample\\\n",
    "$n_1:$ the size of the first sample\\\n",
    "$n_2:$ the size of the second sample\\\n",
    "$\\alpha:$ the level of significance\\\n",
    "$v_1, v_2:$ the degrees of freedom of the F-distribution\n",
    "\n",
    "1. $H_0: \\sigma_1^2 = \\sigma_2^2$\n",
    "2. $H_1: \\sigma_1^2 \\neq \\sigma_2^2$\n",
    "3. $\\alpha = 0.05$\n",
    "4. We shall use a two-tailed hypothesis test concerning variances.\n",
    "   $$f = \\frac{s_1^2}{s_2^2}$$\n",
    "\n",
    "   Since $H_1: \\sigma_1^2 \\neq \\sigma_2^2$, the critical region of the test is\n",
    "   $$f < f_{1-\\alpha/2}(v_1,v_2) \\; or \\; f > f_{\\alpha/2}(v_1,v_2)$$\n",
    "   with $v_1 = n_1 - 1$ and $v_2 = n_2 - 1$"
   ],
   "metadata": {
    "collapsed": false
   }
  },
  {
   "cell_type": "code",
   "execution_count": 5,
   "outputs": [
    {
     "data": {
      "text/plain": "<IPython.core.display.Markdown object>",
      "text/markdown": "Therefore, the critical region is\n$$f < 0.8388857772763105 \\; or \\; f > 1.1920574017201653$$"
     },
     "metadata": {},
     "output_type": "display_data"
    }
   ],
   "source": [
    "# Determine the length of the column\n",
    "column_length = len(df['residual sugar'])\n",
    "\n",
    "# Divide the column into two equal-sized parts\n",
    "first_half = df['residual sugar'][:column_length // 2]\n",
    "second_half = df['residual sugar'][column_length // 2:]\n",
    "\n",
    "# Determine the degree of freedom\n",
    "dfn = len(first_half) - 1\n",
    "dfd = len(second_half) - 1\n",
    "\n",
    "# Define significance level\n",
    "alpha = 0.05\n",
    "\n",
    "# Calculate critical values of F-distribution\n",
    "lower_critical_value = scipy.stats.f.ppf(alpha / 2, dfn, dfd)\n",
    "upper_critical_value = scipy.stats.f.ppf(1 - (alpha / 2), dfn, dfd)\n",
    "\n",
    "display(Markdown(\n",
    "    f'Therefore, the critical region is\\n'\n",
    "    f'$$f < {lower_critical_value} \\; or \\; f > {upper_critical_value}$$'\n",
    "    )\n",
    ")"
   ],
   "metadata": {
    "collapsed": false,
    "ExecuteTime": {
     "start_time": "2023-04-18T07:55:04.575684Z",
     "end_time": "2023-04-18T07:55:04.700897Z"
    }
   }
  },
  {
   "cell_type": "markdown",
   "source": [
    "5. Do the computations"
   ],
   "metadata": {
    "collapsed": false
   }
  },
  {
   "cell_type": "code",
   "execution_count": 6,
   "outputs": [
    {
     "data": {
      "text/plain": "<IPython.core.display.Markdown object>",
      "text/markdown": "Result:\n$$f = 0.9420041066941615$$$$p = 0.7475898202376912$$6. We fail to reject the null hypothesis ($H_0$)."
     },
     "metadata": {},
     "output_type": "display_data"
    }
   ],
   "source": [
    "# Determine the length of the column\n",
    "column_length = len(df['residual sugar'])\n",
    "\n",
    "# Divide the column into two equal-sized parts\n",
    "first_half = df['residual sugar'][:column_length // 2]\n",
    "second_half = df['residual sugar'][column_length // 2:]\n",
    "\n",
    "# Determine the degree of freedom\n",
    "dfn = len(first_half) - 1\n",
    "dfd = len(second_half) - 1\n",
    "\n",
    "# Compute f\n",
    "f = first_half.var() / second_half.var()\n",
    "\n",
    "# Calculate critical values of F-distribution\n",
    "lower_critical_value = scipy.stats.f.ppf(alpha / 2, dfn, dfd)\n",
    "upper_critical_value = scipy.stats.f.ppf(1 - (alpha / 2), dfn, dfd)\n",
    "\n",
    "# Calculate the p-value using the cumulative distribution function (CDF) of the F-distribution\n",
    "p_value = 1 - scipy.stats.f.cdf(f, dfn, dfd)\n",
    "\n",
    "# Determine whether to reject or fail to reject the null hypothesis (H0)\n",
    "if f < lower_critical_value or f > upper_critical_value:\n",
    "    decision = f'We reject the null hypothesis ($H_0$).'\n",
    "else:\n",
    "    decision = f'We fail to reject the null hypothesis ($H_0$).'\n",
    "\n",
    "display(Markdown(\n",
    "    f'Result:\\n'\n",
    "    f'$$f = {f}$$'\n",
    "    f'$$p = {p_value}$$'\n",
    "    f'6. {decision}'\n",
    "    )\n",
    ")"
   ],
   "metadata": {
    "collapsed": false,
    "ExecuteTime": {
     "start_time": "2023-04-18T07:55:04.588488Z",
     "end_time": "2023-04-18T07:55:04.701897Z"
    }
   }
  },
  {
   "cell_type": "markdown",
   "source": [
    "<b></b>\n",
    "\n",
    "## e. Is the proportion of values greater than 7 higher in the first half compared to the second half of the 'alcohol' column?"
   ],
   "metadata": {
    "collapsed": false
   }
  },
  {
   "cell_type": "markdown",
   "source": [
    "$Let:$\\\n",
    "$p_1:$ the true proportion of values greater than 7 in the first half of the 'alcohol' column\\\n",
    "$p_2:$ the true proportion of values greater than 7 in the second half of the 'alcohol' column\\\n",
    "$n_1:$ the size of the first sample\\\n",
    "$n_2:$ the size of the second sample\n",
    "\n",
    "1. $H_0: p_1 = p_2$\n",
    "2. $H_1: p_1 > p_2$\n",
    "3. $\\alpha = 0.05$\n",
    "4. We shall use a one-tailed hypothesis test concerning on two proportions.\n",
    "   $$z = \\frac{\\hat{p_1} - \\hat{p_2}} {\\sqrt{\\hat{p}\\hat{q}(\\frac{1}{n_1}+\\frac{1}{n_2})}}$$\n",
    "   $$\\hat{p_1} = \\frac{x_1} {n_1}$$\n",
    "   $$\\hat{p_2} = \\frac{x_2} {n_2}$$\n",
    "   $$\\hat{p} = \\frac{x_1 + x_2} {n_1 + n_2}$$\n",
    "   $$\\hat{q} = 1 - \\hat{p}$$\n",
    "\n",
    "   Since $H_1: p_1 > p_2$, the critical region of the test is\n",
    "   $$z > z_{\\alpha}$$\n",
    "   $$z > z_{0.05}$$"
   ],
   "metadata": {
    "collapsed": false
   }
  },
  {
   "cell_type": "code",
   "execution_count": 7,
   "outputs": [
    {
     "data": {
      "text/plain": "<IPython.core.display.Markdown object>",
      "text/markdown": "Therefore, the critical region is\n$$z > 1.6448536269514722$$"
     },
     "metadata": {},
     "output_type": "display_data"
    }
   ],
   "source": [
    "# Desired level of significance\n",
    "alpha = 0.05\n",
    "\n",
    "# Compute the critical value\n",
    "critical_value = scipy.stats.norm.ppf(1 - alpha)\n",
    "\n",
    "display(Markdown(\n",
    "    f'Therefore, the critical region is\\n'\n",
    "    f'$$z > {critical_value}$$'\n",
    "    )\n",
    ")"
   ],
   "metadata": {
    "collapsed": false,
    "ExecuteTime": {
     "start_time": "2023-04-18T07:55:04.595789Z",
     "end_time": "2023-04-18T07:55:04.703896Z"
    }
   }
  },
  {
   "cell_type": "markdown",
   "source": [
    "5. Do the computations"
   ],
   "metadata": {
    "collapsed": false
   }
  },
  {
   "cell_type": "code",
   "execution_count": 8,
   "outputs": [
    {
     "data": {
      "text/plain": "<IPython.core.display.Markdown object>",
      "text/markdown": "Result:\n$$z = 0.0$$$$p = 0.5$$6. We fail to reject the null hypothesis ($H_0$)."
     },
     "metadata": {},
     "output_type": "display_data"
    }
   ],
   "source": [
    "# Determine the length of the column\n",
    "column_length = len(df['alcohol'])\n",
    "\n",
    "# Determine the length of both halves\n",
    "n1 = n2 = column_length // 2\n",
    "\n",
    "# Divide the column into two equal-sized parts\n",
    "first_half = df['alcohol'][:column_length // 2]\n",
    "second_half = df['alcohol'][column_length // 2:]\n",
    "\n",
    "# Get the rows with the values greater than 7 from the first and the second half\n",
    "gts_first_half = first_half[first_half > 7]\n",
    "gts_second_half = second_half[second_half > 7]\n",
    "\n",
    "# Get the number of rows greater than 7 from the first and the second half\n",
    "x1 = len(gts_first_half)\n",
    "x2 = len(gts_second_half)\n",
    "\n",
    "# Compute z\n",
    "p_hat = (x1 + x2)/(n1 + n2)\n",
    "q_hat = 1 - p_hat\n",
    "z = (x1/n1 - x2/n2)/(np.sqrt(p_hat * q_hat * (1/n1 + 1/n2)))\n",
    "\n",
    "# Calculate the p-value using the cumulative distribution function (CDF) of the standard normal distribution\n",
    "p_value = 1 - scipy.stats.norm.cdf(z)\n",
    "\n",
    "# Desired level of significance\n",
    "alpha = 0.05\n",
    "\n",
    "# Compute the critical value\n",
    "critical_value = scipy.stats.norm.ppf(1 - alpha)\n",
    "\n",
    "if z > critical_value:\n",
    "    decision = f'We reject the null hypothesis ($H_0$).'\n",
    "else:\n",
    "    decision = f'We fail to reject the null hypothesis ($H_0$).'\n",
    "\n",
    "display(Markdown(\n",
    "    f'Result:\\n'\n",
    "    f'$$z = {z}$$'\n",
    "    f'$$p = {p_value}$$'\n",
    "    f'6. {decision}'\n",
    "    )\n",
    ")"
   ],
   "metadata": {
    "collapsed": false,
    "ExecuteTime": {
     "start_time": "2023-04-18T07:55:04.613660Z",
     "end_time": "2023-04-18T07:55:04.704891Z"
    }
   }
  }
 ],
 "metadata": {
  "kernelspec": {
   "display_name": "Python 3 (ipykernel)",
   "language": "python",
   "name": "python3"
  },
  "language_info": {
   "codemirror_mode": {
    "name": "ipython",
    "version": 3
   },
   "file_extension": ".py",
   "mimetype": "text/x-python",
   "name": "python",
   "nbconvert_exporter": "python",
   "pygments_lexer": "ipython3",
   "version": "3.11.2"
  }
 },
 "nbformat": 4,
 "nbformat_minor": 1
}
