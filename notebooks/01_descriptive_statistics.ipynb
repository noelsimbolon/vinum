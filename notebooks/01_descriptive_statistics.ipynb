{
 "cells": [
  {
   "cell_type": "markdown",
   "metadata": {
    "collapsed": false
   },
   "source": [
    "# Descriptive Statistics"
   ]
  },
  {
   "cell_type": "code",
   "execution_count": 1,
   "metadata": {
    "ExecuteTime": {
     "start_time": "2023-04-05T21:42:09.956047Z",
     "end_time": "2023-04-05T21:42:09.985946Z"
    },
    "collapsed": false
   },
   "outputs": [],
   "source": [
    "import pandas as pd\n",
    "\n",
    "df = pd.read_csv('../data/wine.csv')"
   ]
  },
  {
   "cell_type": "code",
   "execution_count": 2,
   "metadata": {
    "ExecuteTime": {
     "start_time": "2023-04-05T21:42:09.967242Z",
     "end_time": "2023-04-05T21:42:10.021385Z"
    },
    "collapsed": false
   },
   "outputs": [
    {
     "data": {
      "text/plain": "   fixed acidity  volatile acidity  citric acid  residual sugar  chlorides   \n0           5.90            0.4451       0.1813        2.049401   0.070574  \\\n1           8.40            0.5768       0.2099        3.109590   0.101681   \n2           7.54            0.5918       0.3248        3.673744   0.072416   \n3           5.39            0.4201       0.3131        3.371815   0.072755   \n4           6.51            0.5675       0.1940        4.404723   0.066379   \n\n   free sulfur dioxide  total sulfur dioxide  density    pH  sulphates   \n0            16.593818                 42.27   0.9982  3.27       0.71  \\\n1            22.555519                 16.01   0.9960  3.35       0.57   \n2             9.316866                 35.52   0.9990  3.31       0.64   \n3            18.212300                 41.97   0.9945  3.34       0.55   \n4             9.360591                 46.27   0.9925  3.27       0.45   \n\n   alcohol  quality  \n0     8.64        7  \n1    10.03        8  \n2     9.23        8  \n3    14.07        9  \n4    11.49        8  ",
      "text/html": "<div>\n<style scoped>\n    .dataframe tbody tr th:only-of-type {\n        vertical-align: middle;\n    }\n\n    .dataframe tbody tr th {\n        vertical-align: top;\n    }\n\n    .dataframe thead th {\n        text-align: right;\n    }\n</style>\n<table border=\"1\" class=\"dataframe\">\n  <thead>\n    <tr style=\"text-align: right;\">\n      <th></th>\n      <th>fixed acidity</th>\n      <th>volatile acidity</th>\n      <th>citric acid</th>\n      <th>residual sugar</th>\n      <th>chlorides</th>\n      <th>free sulfur dioxide</th>\n      <th>total sulfur dioxide</th>\n      <th>density</th>\n      <th>pH</th>\n      <th>sulphates</th>\n      <th>alcohol</th>\n      <th>quality</th>\n    </tr>\n  </thead>\n  <tbody>\n    <tr>\n      <th>0</th>\n      <td>5.90</td>\n      <td>0.4451</td>\n      <td>0.1813</td>\n      <td>2.049401</td>\n      <td>0.070574</td>\n      <td>16.593818</td>\n      <td>42.27</td>\n      <td>0.9982</td>\n      <td>3.27</td>\n      <td>0.71</td>\n      <td>8.64</td>\n      <td>7</td>\n    </tr>\n    <tr>\n      <th>1</th>\n      <td>8.40</td>\n      <td>0.5768</td>\n      <td>0.2099</td>\n      <td>3.109590</td>\n      <td>0.101681</td>\n      <td>22.555519</td>\n      <td>16.01</td>\n      <td>0.9960</td>\n      <td>3.35</td>\n      <td>0.57</td>\n      <td>10.03</td>\n      <td>8</td>\n    </tr>\n    <tr>\n      <th>2</th>\n      <td>7.54</td>\n      <td>0.5918</td>\n      <td>0.3248</td>\n      <td>3.673744</td>\n      <td>0.072416</td>\n      <td>9.316866</td>\n      <td>35.52</td>\n      <td>0.9990</td>\n      <td>3.31</td>\n      <td>0.64</td>\n      <td>9.23</td>\n      <td>8</td>\n    </tr>\n    <tr>\n      <th>3</th>\n      <td>5.39</td>\n      <td>0.4201</td>\n      <td>0.3131</td>\n      <td>3.371815</td>\n      <td>0.072755</td>\n      <td>18.212300</td>\n      <td>41.97</td>\n      <td>0.9945</td>\n      <td>3.34</td>\n      <td>0.55</td>\n      <td>14.07</td>\n      <td>9</td>\n    </tr>\n    <tr>\n      <th>4</th>\n      <td>6.51</td>\n      <td>0.5675</td>\n      <td>0.1940</td>\n      <td>4.404723</td>\n      <td>0.066379</td>\n      <td>9.360591</td>\n      <td>46.27</td>\n      <td>0.9925</td>\n      <td>3.27</td>\n      <td>0.45</td>\n      <td>11.49</td>\n      <td>8</td>\n    </tr>\n  </tbody>\n</table>\n</div>"
     },
     "execution_count": 2,
     "metadata": {},
     "output_type": "execute_result"
    }
   ],
   "source": [
    "# First 5 rows of the data\n",
    "df.head()"
   ]
  },
  {
   "cell_type": "code",
   "execution_count": 3,
   "metadata": {
    "ExecuteTime": {
     "start_time": "2023-04-05T21:42:09.990965Z",
     "end_time": "2023-04-05T21:42:10.021385Z"
    },
    "collapsed": false
   },
   "outputs": [
    {
     "name": "stdout",
     "output_type": "stream",
     "text": [
      "<class 'pandas.core.frame.DataFrame'>\n",
      "RangeIndex: 1000 entries, 0 to 999\n",
      "Data columns (total 12 columns):\n",
      " #   Column                Non-Null Count  Dtype  \n",
      "---  ------                --------------  -----  \n",
      " 0   fixed acidity         1000 non-null   float64\n",
      " 1   volatile acidity      1000 non-null   float64\n",
      " 2   citric acid           1000 non-null   float64\n",
      " 3   residual sugar        1000 non-null   float64\n",
      " 4   chlorides             1000 non-null   float64\n",
      " 5   free sulfur dioxide   1000 non-null   float64\n",
      " 6   total sulfur dioxide  1000 non-null   float64\n",
      " 7   density               1000 non-null   float64\n",
      " 8   pH                    1000 non-null   float64\n",
      " 9   sulphates             1000 non-null   float64\n",
      " 10  alcohol               1000 non-null   float64\n",
      " 11  quality               1000 non-null   int64  \n",
      "dtypes: float64(11), int64(1)\n",
      "memory usage: 93.9 KB\n"
     ]
    }
   ],
   "source": [
    "# Show column names and their data types\n",
    "df.info()"
   ]
  },
  {
   "cell_type": "code",
   "execution_count": 4,
   "metadata": {
    "ExecuteTime": {
     "start_time": "2023-04-05T21:42:10.009847Z",
     "end_time": "2023-04-05T21:42:10.129918Z"
    },
    "collapsed": false
   },
   "outputs": [
    {
     "data": {
      "text/plain": "       fixed acidity  volatile acidity  citric acid  residual sugar   \nmean        7.152530          0.520839     0.270517        2.567104  \\\nstd         1.201598          0.095848     0.049098        0.987915   \nmin         3.320000          0.139900     0.116700        0.032555   \n25%         6.377500          0.456100     0.237800        1.896330   \n50%         7.150000          0.524850     0.272200        2.519430   \n75%         8.000000          0.585375     0.302325        3.220873   \nmax        11.490000          0.805100     0.409600        5.550755   \nmode        6.540000          0.554600     0.301900             NaN   \nrange       8.170000          0.665200     0.292900        5.518200   \nvar         1.443837          0.009187     0.002411        0.975977   \niqr         1.622500          0.129275     0.064525        1.324544   \nskew       -0.028879         -0.197699    -0.045576        0.132638   \nkurt       -0.019292          0.161853    -0.104679       -0.042980   \n\n       chlorides  free sulfur dioxide  total sulfur dioxide   density   \nmean    0.081195            14.907679             40.290150  0.995925  \\\nstd     0.020111             4.888100              9.965767  0.002020   \nmin     0.015122             0.194679              3.150000  0.988800   \n25%     0.066574            11.426717             33.785000  0.994600   \n50%     0.082167            14.860346             40.190000  0.996000   \n75%     0.095312            18.313098             47.022500  0.997200   \nmax     0.140758            27.462525             69.960000  1.002600   \nmode         NaN                  NaN             35.200000  0.995900   \nrange   0.125635            27.267847             66.810000  0.013800   \nvar     0.000404            23.893519             99.316519  0.000004   \niqr     0.028738             6.886381             13.237500  0.002600   \nskew   -0.051319             0.007130             -0.024060 -0.076883   \nkurt   -0.246508            -0.364964              0.063950  0.016366   \n\n             pH  sulphates    alcohol    quality  \nmean   3.303610   0.598390  10.592280   7.958000  \nstd    0.104875   0.100819   1.510706   0.902802  \nmin    2.970000   0.290000   6.030000   5.000000  \n25%    3.230000   0.530000   9.560000   7.000000  \n50%    3.300000   0.595000  10.610000   8.000000  \n75%    3.370000   0.670000  11.622500   9.000000  \nmax    3.710000   0.960000  15.020000  10.000000  \nmode   3.340000   0.590000   9.860000   8.000000  \nrange  0.740000   0.670000   8.990000   5.000000  \nvar    0.010999   0.010164   2.282233   0.815051  \niqr    0.140000   0.140000   2.062500   2.000000  \nskew   0.147673   0.149199  -0.018991  -0.089054  \nkurt   0.080910   0.064819  -0.131732   0.108291  ",
      "text/html": "<div>\n<style scoped>\n    .dataframe tbody tr th:only-of-type {\n        vertical-align: middle;\n    }\n\n    .dataframe tbody tr th {\n        vertical-align: top;\n    }\n\n    .dataframe thead th {\n        text-align: right;\n    }\n</style>\n<table border=\"1\" class=\"dataframe\">\n  <thead>\n    <tr style=\"text-align: right;\">\n      <th></th>\n      <th>fixed acidity</th>\n      <th>volatile acidity</th>\n      <th>citric acid</th>\n      <th>residual sugar</th>\n      <th>chlorides</th>\n      <th>free sulfur dioxide</th>\n      <th>total sulfur dioxide</th>\n      <th>density</th>\n      <th>pH</th>\n      <th>sulphates</th>\n      <th>alcohol</th>\n      <th>quality</th>\n    </tr>\n  </thead>\n  <tbody>\n    <tr>\n      <th>mean</th>\n      <td>7.152530</td>\n      <td>0.520839</td>\n      <td>0.270517</td>\n      <td>2.567104</td>\n      <td>0.081195</td>\n      <td>14.907679</td>\n      <td>40.290150</td>\n      <td>0.995925</td>\n      <td>3.303610</td>\n      <td>0.598390</td>\n      <td>10.592280</td>\n      <td>7.958000</td>\n    </tr>\n    <tr>\n      <th>std</th>\n      <td>1.201598</td>\n      <td>0.095848</td>\n      <td>0.049098</td>\n      <td>0.987915</td>\n      <td>0.020111</td>\n      <td>4.888100</td>\n      <td>9.965767</td>\n      <td>0.002020</td>\n      <td>0.104875</td>\n      <td>0.100819</td>\n      <td>1.510706</td>\n      <td>0.902802</td>\n    </tr>\n    <tr>\n      <th>min</th>\n      <td>3.320000</td>\n      <td>0.139900</td>\n      <td>0.116700</td>\n      <td>0.032555</td>\n      <td>0.015122</td>\n      <td>0.194679</td>\n      <td>3.150000</td>\n      <td>0.988800</td>\n      <td>2.970000</td>\n      <td>0.290000</td>\n      <td>6.030000</td>\n      <td>5.000000</td>\n    </tr>\n    <tr>\n      <th>25%</th>\n      <td>6.377500</td>\n      <td>0.456100</td>\n      <td>0.237800</td>\n      <td>1.896330</td>\n      <td>0.066574</td>\n      <td>11.426717</td>\n      <td>33.785000</td>\n      <td>0.994600</td>\n      <td>3.230000</td>\n      <td>0.530000</td>\n      <td>9.560000</td>\n      <td>7.000000</td>\n    </tr>\n    <tr>\n      <th>50%</th>\n      <td>7.150000</td>\n      <td>0.524850</td>\n      <td>0.272200</td>\n      <td>2.519430</td>\n      <td>0.082167</td>\n      <td>14.860346</td>\n      <td>40.190000</td>\n      <td>0.996000</td>\n      <td>3.300000</td>\n      <td>0.595000</td>\n      <td>10.610000</td>\n      <td>8.000000</td>\n    </tr>\n    <tr>\n      <th>75%</th>\n      <td>8.000000</td>\n      <td>0.585375</td>\n      <td>0.302325</td>\n      <td>3.220873</td>\n      <td>0.095312</td>\n      <td>18.313098</td>\n      <td>47.022500</td>\n      <td>0.997200</td>\n      <td>3.370000</td>\n      <td>0.670000</td>\n      <td>11.622500</td>\n      <td>9.000000</td>\n    </tr>\n    <tr>\n      <th>max</th>\n      <td>11.490000</td>\n      <td>0.805100</td>\n      <td>0.409600</td>\n      <td>5.550755</td>\n      <td>0.140758</td>\n      <td>27.462525</td>\n      <td>69.960000</td>\n      <td>1.002600</td>\n      <td>3.710000</td>\n      <td>0.960000</td>\n      <td>15.020000</td>\n      <td>10.000000</td>\n    </tr>\n    <tr>\n      <th>mode</th>\n      <td>6.540000</td>\n      <td>0.554600</td>\n      <td>0.301900</td>\n      <td>NaN</td>\n      <td>NaN</td>\n      <td>NaN</td>\n      <td>35.200000</td>\n      <td>0.995900</td>\n      <td>3.340000</td>\n      <td>0.590000</td>\n      <td>9.860000</td>\n      <td>8.000000</td>\n    </tr>\n    <tr>\n      <th>range</th>\n      <td>8.170000</td>\n      <td>0.665200</td>\n      <td>0.292900</td>\n      <td>5.518200</td>\n      <td>0.125635</td>\n      <td>27.267847</td>\n      <td>66.810000</td>\n      <td>0.013800</td>\n      <td>0.740000</td>\n      <td>0.670000</td>\n      <td>8.990000</td>\n      <td>5.000000</td>\n    </tr>\n    <tr>\n      <th>var</th>\n      <td>1.443837</td>\n      <td>0.009187</td>\n      <td>0.002411</td>\n      <td>0.975977</td>\n      <td>0.000404</td>\n      <td>23.893519</td>\n      <td>99.316519</td>\n      <td>0.000004</td>\n      <td>0.010999</td>\n      <td>0.010164</td>\n      <td>2.282233</td>\n      <td>0.815051</td>\n    </tr>\n    <tr>\n      <th>iqr</th>\n      <td>1.622500</td>\n      <td>0.129275</td>\n      <td>0.064525</td>\n      <td>1.324544</td>\n      <td>0.028738</td>\n      <td>6.886381</td>\n      <td>13.237500</td>\n      <td>0.002600</td>\n      <td>0.140000</td>\n      <td>0.140000</td>\n      <td>2.062500</td>\n      <td>2.000000</td>\n    </tr>\n    <tr>\n      <th>skew</th>\n      <td>-0.028879</td>\n      <td>-0.197699</td>\n      <td>-0.045576</td>\n      <td>0.132638</td>\n      <td>-0.051319</td>\n      <td>0.007130</td>\n      <td>-0.024060</td>\n      <td>-0.076883</td>\n      <td>0.147673</td>\n      <td>0.149199</td>\n      <td>-0.018991</td>\n      <td>-0.089054</td>\n    </tr>\n    <tr>\n      <th>kurt</th>\n      <td>-0.019292</td>\n      <td>0.161853</td>\n      <td>-0.104679</td>\n      <td>-0.042980</td>\n      <td>-0.246508</td>\n      <td>-0.364964</td>\n      <td>0.063950</td>\n      <td>0.016366</td>\n      <td>0.080910</td>\n      <td>0.064819</td>\n      <td>-0.131732</td>\n      <td>0.108291</td>\n    </tr>\n  </tbody>\n</table>\n</div>"
     },
     "execution_count": 4,
     "metadata": {},
     "output_type": "execute_result"
    }
   ],
   "source": [
    "# Description of the data: mean, std, min, max, quartiles, etc\n",
    "desc = df.describe()\n",
    "\n",
    "# Drop redundant 'count' column\n",
    "desc = desc.drop(labels='count')\n",
    "\n",
    "# Create a dataframe containing the modes of each column\n",
    "mode = df.mode()\n",
    "\n",
    "# This loop ensures that only columns with one (or more) mode(s) has the mode value\n",
    "# If a column doesn't have a mode (i.e. all values appear the same number of times), its mode value will be NaN\n",
    "for col_name, col_data in mode.items():\n",
    "    if col_data.isna().any():  # If there is any NaN entry (it means that the column has one (or more) mode(s))\n",
    "        desc.loc['mode', col_name] = col_data.iloc[0]  # Add it to the mode row in desc\n",
    "\n",
    "# Add more descriptive statistics as rows\n",
    "desc.loc['range'] = (desc.loc['max'] - desc.loc['min'])\n",
    "desc.loc['var'] = df.var()\n",
    "desc.loc['iqr'] = (desc.loc['75%'] - desc.loc['25%'])\n",
    "desc.loc['skew'] = df.skew()\n",
    "desc.loc['kurt'] = df.kurtosis()\n",
    "\n",
    "# Show the data frame\n",
    "desc"
   ]
  },
  {
   "cell_type": "markdown",
   "metadata": {
    "collapsed": false
   },
   "source": [
    "`mean`: mean\\\n",
    "`std`: standard deviation\\\n",
    "`min`: minimum value\\\n",
    "`25%`: first quartile\\\n",
    "`50%`: second quartile (median)\\\n",
    "`75%`: third quartile\\\n",
    "`max`: maximum value\\\n",
    "`mode`: mode (`NaN` if the column has no mode, i.e. all values appear the same number of times).\n",
    "If there are multiple modes in a column, only one value is chosen\\\n",
    "`range`: range\\\n",
    "`var`: variance\\\n",
    "`iqr`: interquartile range (IQR)\\\n",
    "`skew`: skewness\\\n",
    "`kurt`: kurtosis"
   ]
  }
 ],
 "metadata": {
  "kernelspec": {
   "display_name": "Python 3",
   "language": "python",
   "name": "python3"
  },
  "language_info": {
   "codemirror_mode": {
    "name": "ipython",
    "version": 3
   },
   "file_extension": ".py",
   "mimetype": "text/x-python",
   "name": "python",
   "nbconvert_exporter": "python",
   "pygments_lexer": "ipython3",
   "version": "3.11.2"
  }
 },
 "nbformat": 4,
 "nbformat_minor": 0
}
