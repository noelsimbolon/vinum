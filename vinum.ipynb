{
 "cells": [
  {
   "attachments": {},
   "cell_type": "markdown",
   "metadata": {},
   "source": [
    "# Tugas Besar IF2220 Probabilitas dan Statistika - Penarikan Kesimpulan dan Pengujian Hipotesis\n",
    "Dibuat oleh:\n",
    "- Noel Christoffel Simbolon (13521096)\n",
    "- Bintang Dwi Marthen (13521144)"
   ]
  },
  {
   "cell_type": "code",
   "execution_count": 1,
   "metadata": {},
   "outputs": [],
   "source": [
    "import pandas as pd\n",
    "import numpy as np\n",
    "import matplotlib.pyplot as plt\n",
    "import seaborn as sns\n",
    "from scipy.stats import describe"
   ]
  },
  {
   "cell_type": "code",
   "execution_count": 2,
   "metadata": {},
   "outputs": [],
   "source": [
    "# Read in the data\n",
    "df = pd.read_csv('anggur.csv')"
   ]
  },
  {
   "cell_type": "code",
   "execution_count": 3,
   "metadata": {},
   "outputs": [
    {
     "name": "stdout",
     "output_type": "stream",
     "text": [
      "   fixed acidity  volatile acidity  citric acid  residual sugar  chlorides  \\\n",
      "0           5.90            0.4451       0.1813        2.049401   0.070574   \n",
      "1           8.40            0.5768       0.2099        3.109590   0.101681   \n",
      "2           7.54            0.5918       0.3248        3.673744   0.072416   \n",
      "3           5.39            0.4201       0.3131        3.371815   0.072755   \n",
      "4           6.51            0.5675       0.1940        4.404723   0.066379   \n",
      "\n",
      "   free sulfur dioxide  total sulfur dioxide  density    pH  sulphates  \\\n",
      "0            16.593818                 42.27   0.9982  3.27       0.71   \n",
      "1            22.555519                 16.01   0.9960  3.35       0.57   \n",
      "2             9.316866                 35.52   0.9990  3.31       0.64   \n",
      "3            18.212300                 41.97   0.9945  3.34       0.55   \n",
      "4             9.360591                 46.27   0.9925  3.27       0.45   \n",
      "\n",
      "   alcohol  quality  \n",
      "0     8.64        7  \n",
      "1    10.03        8  \n",
      "2     9.23        8  \n",
      "3    14.07        9  \n",
      "4    11.49        8  \n"
     ]
    }
   ],
   "source": [
    "# Print the first 5 rows of the data\n",
    "print(df.head())"
   ]
  },
  {
   "cell_type": "code",
   "execution_count": 4,
   "metadata": {},
   "outputs": [
    {
     "name": "stdout",
     "output_type": "stream",
     "text": [
      "<class 'pandas.core.frame.DataFrame'>\n",
      "RangeIndex: 1000 entries, 0 to 999\n",
      "Data columns (total 12 columns):\n",
      " #   Column                Non-Null Count  Dtype  \n",
      "---  ------                --------------  -----  \n",
      " 0   fixed acidity         1000 non-null   float64\n",
      " 1   volatile acidity      1000 non-null   float64\n",
      " 2   citric acid           1000 non-null   float64\n",
      " 3   residual sugar        1000 non-null   float64\n",
      " 4   chlorides             1000 non-null   float64\n",
      " 5   free sulfur dioxide   1000 non-null   float64\n",
      " 6   total sulfur dioxide  1000 non-null   float64\n",
      " 7   density               1000 non-null   float64\n",
      " 8   pH                    1000 non-null   float64\n",
      " 9   sulphates             1000 non-null   float64\n",
      " 10  alcohol               1000 non-null   float64\n",
      " 11  quality               1000 non-null   int64  \n",
      "dtypes: float64(11), int64(1)\n",
      "memory usage: 93.9 KB\n",
      "None\n"
     ]
    }
   ],
   "source": [
    "# Print all the column names and its data types\n",
    "print(df.info())"
   ]
  },
  {
   "cell_type": "code",
   "execution_count": 5,
   "metadata": {},
   "outputs": [
    {
     "name": "stdout",
     "output_type": "stream",
     "text": [
      "       fixed acidity  volatile acidity  citric acid  residual sugar  \\\n",
      "count    1000.000000       1000.000000  1000.000000     1000.000000   \n",
      "mean        7.152530          0.520838     0.270517        2.567104   \n",
      "std         1.201598          0.095848     0.049098        0.987915   \n",
      "min         3.320000          0.139900     0.116700        0.032555   \n",
      "25%         6.377500          0.456100     0.237800        1.896330   \n",
      "50%         7.150000          0.524850     0.272200        2.519430   \n",
      "75%         8.000000          0.585375     0.302325        3.220873   \n",
      "max        11.490000          0.805100     0.409600        5.550755   \n",
      "var         1.443837          0.009187     0.002411        0.975977   \n",
      "skew       -0.028879         -0.197699    -0.045576        0.132638   \n",
      "kurt       -0.019292          0.161853    -0.104679       -0.042980   \n",
      "\n",
      "         chlorides  free sulfur dioxide  total sulfur dioxide      density  \\\n",
      "count  1000.000000          1000.000000           1000.000000  1000.000000   \n",
      "mean      0.081195            14.907679             40.290150     0.995925   \n",
      "std       0.020111             4.888100              9.965767     0.002020   \n",
      "min       0.015122             0.194679              3.150000     0.988800   \n",
      "25%       0.066574            11.426717             33.785000     0.994600   \n",
      "50%       0.082167            14.860346             40.190000     0.996000   \n",
      "75%       0.095312            18.313098             47.022500     0.997200   \n",
      "max       0.140758            27.462525             69.960000     1.002600   \n",
      "var       0.000404            23.893519             99.316519     0.000004   \n",
      "skew     -0.051319             0.007130             -0.024060    -0.076883   \n",
      "kurt     -0.246508            -0.364964              0.063950     0.016366   \n",
      "\n",
      "                pH    sulphates      alcohol      quality  \n",
      "count  1000.000000  1000.000000  1000.000000  1000.000000  \n",
      "mean      3.303610     0.598390    10.592280     7.958000  \n",
      "std       0.104875     0.100819     1.510706     0.902802  \n",
      "min       2.970000     0.290000     6.030000     5.000000  \n",
      "25%       3.230000     0.530000     9.560000     7.000000  \n",
      "50%       3.300000     0.595000    10.610000     8.000000  \n",
      "75%       3.370000     0.670000    11.622500     9.000000  \n",
      "max       3.710000     0.960000    15.020000    10.000000  \n",
      "var       0.010999     0.010164     2.282233     0.815051  \n",
      "skew      0.147673     0.149199    -0.018991    -0.089054  \n",
      "kurt      0.080910     0.064819    -0.131732     0.108291  \n"
     ]
    }
   ],
   "source": [
    "# Description of the Datas : mean, std, min, max, quartiles, etc\n",
    "desc = df.describe()\n",
    "desc.loc['var'] = df.var().tolist()\n",
    "desc.loc['skew'] = df.skew().tolist()\n",
    "desc.loc['kurt'] = df.kurtosis().tolist()\n",
    "print(desc)"
   ]
  }
 ],
 "metadata": {
  "kernelspec": {
   "display_name": "Python 3",
   "language": "python",
   "name": "python3"
  },
  "language_info": {
   "codemirror_mode": {
    "name": "ipython",
    "version": 3
   },
   "file_extension": ".py",
   "mimetype": "text/x-python",
   "name": "python",
   "nbconvert_exporter": "python",
   "pygments_lexer": "ipython3",
   "version": "3.9.16"
  },
  "orig_nbformat": 4
 },
 "nbformat": 4,
 "nbformat_minor": 2
}
